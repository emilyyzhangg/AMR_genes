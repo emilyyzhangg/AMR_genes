{
 "cells": [
  {
   "cell_type": "code",
   "execution_count": 1,
   "metadata": {},
   "outputs": [
    {
     "name": "stderr",
     "output_type": "stream",
     "text": [
      "Global seed set to 0\n",
      "/home/dennis/miniconda3/envs/compbioGPU/lib/python3.9/site-packages/flax/struct.py:132: FutureWarning: jax.tree_util.register_keypaths is deprecated, and will be removed in a future release. Please use `register_pytree_with_keys()` instead.\n",
      "  jax.tree_util.register_keypaths(data_clz, keypaths)\n",
      "/home/dennis/miniconda3/envs/compbioGPU/lib/python3.9/site-packages/flax/struct.py:132: FutureWarning: jax.tree_util.register_keypaths is deprecated, and will be removed in a future release. Please use `register_pytree_with_keys()` instead.\n",
      "  jax.tree_util.register_keypaths(data_clz, keypaths)\n",
      "/home/dennis/miniconda3/envs/compbioGPU/lib/python3.9/site-packages/flax/struct.py:132: FutureWarning: jax.tree_util.register_keypaths is deprecated, and will be removed in a future release. Please use `register_pytree_with_keys()` instead.\n",
      "  jax.tree_util.register_keypaths(data_clz, keypaths)\n"
     ]
    }
   ],
   "source": [
    "import anndata as ad\n",
    "import scvi\n",
    "import scanpy as sc\n",
    "import mrvi\n",
    "import pandas as pd\n",
    "import scipy as sp\n",
    "import numpy as np\n",
    "import pickle as pkl\n",
    "import utils"
   ]
  },
  {
   "attachments": {},
   "cell_type": "markdown",
   "metadata": {},
   "source": [
    "# Data Preprocessing"
   ]
  },
  {
   "cell_type": "code",
   "execution_count": 5,
   "metadata": {},
   "outputs": [],
   "source": [
    "adata = sc.read('./../data/MGH66_bacdrop.h5ad')"
   ]
  },
  {
   "cell_type": "code",
   "execution_count": 6,
   "metadata": {},
   "outputs": [
    {
     "data": {
      "text/html": [
       "<div>\n",
       "<style scoped>\n",
       "    .dataframe tbody tr th:only-of-type {\n",
       "        vertical-align: middle;\n",
       "    }\n",
       "\n",
       "    .dataframe tbody tr th {\n",
       "        vertical-align: top;\n",
       "    }\n",
       "\n",
       "    .dataframe thead th {\n",
       "        text-align: right;\n",
       "    }\n",
       "</style>\n",
       "<table border=\"1\" class=\"dataframe\">\n",
       "  <thead>\n",
       "    <tr style=\"text-align: right;\">\n",
       "      <th></th>\n",
       "      <th>sample</th>\n",
       "      <th>replicate</th>\n",
       "    </tr>\n",
       "  </thead>\n",
       "  <tbody>\n",
       "    <tr>\n",
       "      <th>AACGTTCTGTCGAAAAAAAAAAAAAAAAA-0</th>\n",
       "      <td>untreated</td>\n",
       "      <td>0</td>\n",
       "    </tr>\n",
       "    <tr>\n",
       "      <th>AACGTTCTGTCGAAAACGAAAGAGCTACG-0</th>\n",
       "      <td>untreated</td>\n",
       "      <td>0</td>\n",
       "    </tr>\n",
       "    <tr>\n",
       "      <th>AACGTTCTGTCGAAAACGAAAGAGGTCCA-0</th>\n",
       "      <td>untreated</td>\n",
       "      <td>0</td>\n",
       "    </tr>\n",
       "    <tr>\n",
       "      <th>AACGTTCTGTCGAAAACGAAAGCACCATT-0</th>\n",
       "      <td>untreated</td>\n",
       "      <td>0</td>\n",
       "    </tr>\n",
       "    <tr>\n",
       "      <th>AACGTTCTGTCGAAAACGAACAACTCGAT-0</th>\n",
       "      <td>untreated</td>\n",
       "      <td>0</td>\n",
       "    </tr>\n",
       "    <tr>\n",
       "      <th>...</th>\n",
       "      <td>...</td>\n",
       "      <td>...</td>\n",
       "    </tr>\n",
       "    <tr>\n",
       "      <th>TTGCAGCCACAGCTTGTATCTGCCTAGTA-1</th>\n",
       "      <td>meropenem</td>\n",
       "      <td>1</td>\n",
       "    </tr>\n",
       "    <tr>\n",
       "      <th>TTGCAGCCACAGCTTGTGCCTGCGCACTG-1</th>\n",
       "      <td>meropenem</td>\n",
       "      <td>1</td>\n",
       "    </tr>\n",
       "    <tr>\n",
       "      <th>TTGCAGCCACAGCTTGTTTGTGGAGTAAT-1</th>\n",
       "      <td>meropenem</td>\n",
       "      <td>1</td>\n",
       "    </tr>\n",
       "    <tr>\n",
       "      <th>TTGCAGCCACAGCTTTAGCGTGAGGTGAC-1</th>\n",
       "      <td>meropenem</td>\n",
       "      <td>1</td>\n",
       "    </tr>\n",
       "    <tr>\n",
       "      <th>TTGCAGCCACAGCTTTCGTAACCATCCTC-1</th>\n",
       "      <td>meropenem</td>\n",
       "      <td>1</td>\n",
       "    </tr>\n",
       "  </tbody>\n",
       "</table>\n",
       "<p>1692542 rows × 2 columns</p>\n",
       "</div>"
      ],
      "text/plain": [
       "                                    sample replicate\n",
       "AACGTTCTGTCGAAAAAAAAAAAAAAAAA-0  untreated         0\n",
       "AACGTTCTGTCGAAAACGAAAGAGCTACG-0  untreated         0\n",
       "AACGTTCTGTCGAAAACGAAAGAGGTCCA-0  untreated         0\n",
       "AACGTTCTGTCGAAAACGAAAGCACCATT-0  untreated         0\n",
       "AACGTTCTGTCGAAAACGAACAACTCGAT-0  untreated         0\n",
       "...                                    ...       ...\n",
       "TTGCAGCCACAGCTTGTATCTGCCTAGTA-1  meropenem         1\n",
       "TTGCAGCCACAGCTTGTGCCTGCGCACTG-1  meropenem         1\n",
       "TTGCAGCCACAGCTTGTTTGTGGAGTAAT-1  meropenem         1\n",
       "TTGCAGCCACAGCTTTAGCGTGAGGTGAC-1  meropenem         1\n",
       "TTGCAGCCACAGCTTTCGTAACCATCCTC-1  meropenem         1\n",
       "\n",
       "[1692542 rows x 2 columns]"
      ]
     },
     "execution_count": 6,
     "metadata": {},
     "output_type": "execute_result"
    }
   ],
   "source": [
    "adata.var_names\n",
    "adata.obs_keys()\n",
    "adata.obs"
   ]
  },
  {
   "cell_type": "code",
   "execution_count": 7,
   "metadata": {},
   "outputs": [],
   "source": [
    "# TODO: more data cleaning and filtering etc?"
   ]
  },
  {
   "attachments": {},
   "cell_type": "markdown",
   "metadata": {},
   "source": [
    "# Running bacdrop data through MrVI"
   ]
  },
  {
   "cell_type": "code",
   "execution_count": 8,
   "metadata": {},
   "outputs": [],
   "source": [
    "mrvi.MrVI.setup_anndata(adata, sample_key=\"sample\", categorical_nuisance_keys=[\"replicate\"])\n",
    "mrvi_model = mrvi.MrVI(adata)"
   ]
  },
  {
   "cell_type": "code",
   "execution_count": 9,
   "metadata": {},
   "outputs": [
    {
     "name": "stderr",
     "output_type": "stream",
     "text": [
      "GPU available: True, used: True\n",
      "TPU available: False, using: 0 TPU cores\n",
      "IPU available: False, using: 0 IPUs\n",
      "LOCAL_RANK: 0 - CUDA_VISIBLE_DEVICES: [0]\n"
     ]
    },
    {
     "name": "stdout",
     "output_type": "stream",
     "text": [
      "Epoch 5/5: 100%|██████████| 5/5 [11:16<00:00, 135.39s/it, loss=23.6, v_num=1]\n"
     ]
    }
   ],
   "source": [
    "mrvi_model.train()"
   ]
  },
  {
   "cell_type": "code",
   "execution_count": 10,
   "metadata": {},
   "outputs": [
    {
     "name": "stderr",
     "output_type": "stream",
     "text": [
      "100%|██████████| 13223/13223 [10:49<00:00, 20.37it/s]\n"
     ]
    }
   ],
   "source": [
    "# Get z representation\n",
    "adata.obsm[\"X_mrvi_z\"] = mrvi_model.get_latent_representation(give_z=True)"
   ]
  },
  {
   "cell_type": "code",
   "execution_count": 11,
   "metadata": {},
   "outputs": [
    {
     "name": "stderr",
     "output_type": "stream",
     "text": [
      "100%|██████████| 13223/13223 [10:50<00:00, 20.33it/s]\n"
     ]
    }
   ],
   "source": [
    "# Get u representation\n",
    "adata.obsm[\"X_mrvi_u\"] = mrvi_model.get_latent_representation(give_z=False)"
   ]
  },
  {
   "cell_type": "code",
   "execution_count": 12,
   "metadata": {},
   "outputs": [
    {
     "name": "stderr",
     "output_type": "stream",
     "text": [
      "100%|██████████| 6612/6612 [01:09<00:00, 94.92it/s] \n"
     ]
    }
   ],
   "source": [
    "# Cells by n_sample by n_latent\n",
    "# representations of each cell in its local sample\n",
    "cell_sample_representations = mrvi_model.get_local_sample_representation()"
   ]
  },
  {
   "cell_type": "code",
   "execution_count": 13,
   "metadata": {},
   "outputs": [
    {
     "name": "stderr",
     "output_type": "stream",
     "text": [
      "100%|██████████| 6612/6612 [01:09<00:00, 95.58it/s] \n"
     ]
    }
   ],
   "source": [
    "# Cells by n_sample by n_sample\n",
    "# local sample-sample distances (section 3.1), quantifies differences in gene expression across biological samples (S x S), where S = set of samples\n",
    "cell_sample_sample_distances = mrvi_model.get_local_sample_representation(return_distances=True)"
   ]
  },
  {
   "cell_type": "code",
   "execution_count": 14,
   "metadata": {},
   "outputs": [
    {
     "data": {
      "text/plain": [
       "AxisArrays with keys: _scvi_categorical_nuisance_keys, X_mrvi_z, X_mrvi_u"
      ]
     },
     "execution_count": 14,
     "metadata": {},
     "output_type": "execute_result"
    }
   ],
   "source": [
    "adata.obsm"
   ]
  },
  {
   "cell_type": "code",
   "execution_count": 15,
   "metadata": {},
   "outputs": [
    {
     "data": {
      "text/plain": [
       "AnnData object with n_obs × n_vars = 1692542 × 4628\n",
       "    obs: 'sample', 'replicate', '_scvi_sample', '_scvi_labels'\n",
       "    uns: '_scvi_uuid', '_scvi_manager_uuid'\n",
       "    obsm: '_scvi_categorical_nuisance_keys', 'X_mrvi_z', 'X_mrvi_u'"
      ]
     },
     "execution_count": 15,
     "metadata": {},
     "output_type": "execute_result"
    }
   ],
   "source": [
    "mrvi_model.adata"
   ]
  },
  {
   "cell_type": "code",
   "execution_count": 16,
   "metadata": {},
   "outputs": [
    {
     "data": {
      "text/plain": [
       "AACGTTCTGTCGAAAAAAAAAAAAAAAAA-0    0\n",
       "AACGTTCTGTCGAAAACGAAAGAGCTACG-0    0\n",
       "AACGTTCTGTCGAAAACGAAAGAGGTCCA-0    0\n",
       "AACGTTCTGTCGAAAACGAAAGCACCATT-0    0\n",
       "AACGTTCTGTCGAAAACGAACAACTCGAT-0    0\n",
       "                                  ..\n",
       "TTGCAGCCACAGCTTGTATCTGCCTAGTA-1    0\n",
       "TTGCAGCCACAGCTTGTGCCTGCGCACTG-1    0\n",
       "TTGCAGCCACAGCTTGTTTGTGGAGTAAT-1    0\n",
       "TTGCAGCCACAGCTTTAGCGTGAGGTGAC-1    0\n",
       "TTGCAGCCACAGCTTTCGTAACCATCCTC-1    0\n",
       "Name: _scvi_labels, Length: 1692542, dtype: int8"
      ]
     },
     "execution_count": 16,
     "metadata": {},
     "output_type": "execute_result"
    }
   ],
   "source": [
    "mrvi_model.adata.obs['_scvi_labels']"
   ]
  },
  {
   "cell_type": "code",
   "execution_count": 17,
   "metadata": {},
   "outputs": [
    {
     "data": {
      "text/plain": [
       "attrdict({'n_cells': 1692542, 'n_vars': 4628, 'n_sample': 4, 'n_labels': 1, 'n_categorical_nuisance_keys': 1})"
      ]
     },
     "execution_count": 17,
     "metadata": {},
     "output_type": "execute_result"
    }
   ],
   "source": [
    "mrvi_model.summary_stats"
   ]
  },
  {
   "cell_type": "code",
   "execution_count": 18,
   "metadata": {},
   "outputs": [],
   "source": [
    "sc.pp.filter_cells(adata, min_genes=20)\n",
    "sc.pp.filter_genes(adata, min_cells=3) "
   ]
  },
  {
   "cell_type": "code",
   "execution_count": 19,
   "metadata": {},
   "outputs": [],
   "source": [
    "# Saved for easy reloads later\n",
    "outpath = './../data/MrVIoutputs/bacdrop.h5ad'\n",
    "adata.write_h5ad(outpath)"
   ]
  },
  {
   "cell_type": "code",
   "execution_count": 20,
   "metadata": {},
   "outputs": [],
   "source": [
    "# Serializing everything for even easier reloads later\n",
    "utils.write_pickle(mrvi_model, './../data/pickles/mrvi_model.pickle')\n",
    "\n",
    "utils.write_pickle(cell_sample_representations, './../data/pickles/sample_representations.pickle')\n",
    "\n",
    "utils.write_pickle(cell_sample_sample_distances, './../data/pickles/sample_distances.pickle')"
   ]
  }
 ],
 "metadata": {
  "kernelspec": {
   "display_name": "compbioGPU",
   "language": "python",
   "name": "python3"
  },
  "language_info": {
   "codemirror_mode": {
    "name": "ipython",
    "version": 3
   },
   "file_extension": ".py",
   "mimetype": "text/x-python",
   "name": "python",
   "nbconvert_exporter": "python",
   "pygments_lexer": "ipython3",
   "version": "3.9.16"
  },
  "orig_nbformat": 4
 },
 "nbformat": 4,
 "nbformat_minor": 2
}
